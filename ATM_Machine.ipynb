{
  "nbformat": 4,
  "nbformat_minor": 0,
  "metadata": {
    "colab": {
      "name": "ATM Machine.ipynb",
      "provenance": []
    },
    "kernelspec": {
      "name": "python3",
      "display_name": "Python 3"
    },
    "language_info": {
      "name": "python"
    }
  },
  "cells": [
    {
      "cell_type": "code",
      "metadata": {
        "colab": {
          "base_uri": "https://localhost:8080/"
        },
        "id": "nEIWN1ecuX6r",
        "outputId": "02f7c16f-87b7-476c-ed49-5d9c1859754b"
      },
      "source": [
        "print('Welcome to SBI ATM')\n",
        "proceed=int(input(\"entre any number to proceed\" ))\n",
        "chances = 0\n",
        "balance = 1000\n",
        "while chances < 3 :\n",
        "  pin = int(input(\"Entre your atm pin\"))\n",
        "  if pin ==(9436):\n",
        "    print(\"You entred your pin correctly\")\n",
        "    print(\"Please press 1 to Know your balance\")\n",
        "    print(\"Please press 2 to withdraw your cash\")\n",
        "    print(\"please press 3 to print reciept\")\n",
        "    break\n",
        "  else:\n",
        "    print(\"you entred your pin incorrectly please try again\")\n",
        "    chances+=1\n",
        "option = int(input(\"enter your choice\"))   \n",
        "if option == 1:\n",
        "  print(\"your Balance is\",balance) \n",
        "elif option==2:\n",
        "  amount=(int(input(\"enter the amount you want to withdraw\")))\n",
        "  if amount<=1000:\n",
        "      print(\"collect your cash\")\n",
        "      print(\"your balance after withdrawing the cash is\",(balance-amount))\n",
        "  else:\n",
        "    print(\"insufficient funds\")  \n",
        "else:\n",
        "  print(\"collect your reciept and your remaining balance is\",balance)      \n"
      ],
      "execution_count": 2,
      "outputs": [
        {
          "output_type": "stream",
          "name": "stdout",
          "text": [
            "Welcome to SBI ATM\n",
            "entre any number to proceed2\n",
            "Entre your atm pin9436\n",
            "You entred your pin correctly\n",
            "Please press 1 to Know your balance\n",
            "Please press 2 to withdraw your cash\n",
            "please press 3 to print reciept\n",
            "enter your choice2\n",
            "enter the amount you want to withdraw845\n",
            "collect your cash\n",
            "your balance after withdrawing the cash is 155\n"
          ]
        }
      ]
    }
  ]
}